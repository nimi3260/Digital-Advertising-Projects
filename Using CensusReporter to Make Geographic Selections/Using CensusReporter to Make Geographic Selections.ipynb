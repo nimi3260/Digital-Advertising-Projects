{
 "cells": [
  {
   "cell_type": "markdown",
   "metadata": {},
   "source": [
    "# Using CensusReporter to Make Geographic Selections \n",
    "## By: Nicole Miller \n",
    "### This project illustrates how APIs can be used to make geographic target selections using data from the Census"
   ]
  },
  {
   "cell_type": "code",
   "execution_count": 1,
   "metadata": {},
   "outputs": [],
   "source": [
    "#importing the packages necessary to complete our analysis \n",
    "import pandas as pd\n",
    "import json  \n",
    "import requests \n",
    "import time \n"
   ]
  },
  {
   "cell_type": "code",
   "execution_count": 2,
   "metadata": {},
   "outputs": [],
   "source": [
    "#this assigns the filename we're trying to load in to a string variable\n",
    "msas = 'msas.csv'"
   ]
  },
  {
   "cell_type": "code",
   "execution_count": 3,
   "metadata": {},
   "outputs": [],
   "source": [
    "#this uses the pandas package to load the csv file into a pandas dataframe\n",
    "df = pd.read_csv(msas)  "
   ]
  },
  {
   "cell_type": "code",
   "execution_count": 4,
   "metadata": {},
   "outputs": [],
   "source": [
    "#table ids I want to download \n",
    "tableids = ['B01001', 'B03002', 'B19001'] \n",
    "#table that represent age, race, income respectively "
   ]
  },
  {
   "cell_type": "code",
   "execution_count": 5,
   "metadata": {},
   "outputs": [],
   "source": [
    "#joining list together for table id\n",
    "tableidstring = ','.join(tableids) "
   ]
  },
  {
   "cell_type": "code",
   "execution_count": 6,
   "metadata": {},
   "outputs": [],
   "source": [
    "#setting cbsa as the index\n",
    "msas = df.set_index(\"CBSA\", drop= False)"
   ]
  },
  {
   "cell_type": "code",
   "execution_count": 7,
   "metadata": {},
   "outputs": [],
   "source": [
    "#setting empty variables \n",
    "urllist = []  \n",
    "geoid= 0 \n",
    "geoidlist = []"
   ]
  },
  {
   "cell_type": "code",
   "execution_count": 8,
   "metadata": {},
   "outputs": [],
   "source": [
    "#iterating through each index\n",
    "for index, row in msas.iterrows(): \n",
    "    geoid = '31000US' + str(index)\n",
    "    requesturl = 'http://api.censusreporter.org/1.0/data/show/latest?table_ids=%s&geo_ids=%s' % (tableidstring, geoid) \n",
    "    urllist.append(requesturl) \n",
    "    #appending a geoid to a list of geoids\n",
    "    geoidlist.append(str(geoid))"
   ]
  },
  {
   "cell_type": "code",
   "execution_count": 9,
   "metadata": {},
   "outputs": [],
   "source": [
    "#adding a URL column     \n",
    "msas['URL'] = urllist "
   ]
  },
  {
   "cell_type": "code",
   "execution_count": 10,
   "metadata": {},
   "outputs": [],
   "source": [
    "#making new dataframe\n",
    "alldf = pd.DataFrame()\n",
    "alldf['URL'] = msas['URL'] "
   ]
  },
  {
   "cell_type": "code",
   "execution_count": 11,
   "metadata": {},
   "outputs": [],
   "source": [
    "#appending the geoids to the dataframes\n",
    "alldf['GEO_ID'] = geoidlist \n",
    "msas['GEO_ID'] = geoidlist"
   ]
  },
  {
   "cell_type": "code",
   "execution_count": 12,
   "metadata": {},
   "outputs": [],
   "source": [
    "#getting empty lists for the age, income, and race for every geoid  \n",
    "#Since URLlist is in the same order, it will be simple to transform \n",
    "age = [] \n",
    "income = [] \n",
    "race = []  "
   ]
  },
  {
   "cell_type": "code",
   "execution_count": 13,
   "metadata": {},
   "outputs": [],
   "source": [
    "#There are lots of code for the ages we are interested in, so we made a list that we can itterate through \n",
    "age_get = ['B01001007','B01001008','B01001009', 'B01001010','B01001011','B01001012']   "
   ]
  },
  {
   "cell_type": "code",
   "execution_count": 14,
   "metadata": {},
   "outputs": [],
   "source": [
    "#Iterating through each URL list \n",
    "for element in urllist:  \n",
    "    #Use the current URL to get the json\n",
    "    loadedjson = requests.get(element) \n",
    "    loadedjson.json()\n",
    "    parsedjson= json.loads(loadedjson.text) \n",
    "    #This is the CBSA of the current URL, just taken off the end \n",
    "    locstr = element[-12:] \n",
    "    \n",
    "    #Creating three dataframes of the data we need using the CBSA gleaned from table\n",
    "    agedf= pd.DataFrame.from_dict(parsedjson['data'][locstr]['B01001'])\n",
    "    racedf= pd.DataFrame.from_dict(parsedjson['data'][locstr]['B03002'])\n",
    "    incomedf= pd.DataFrame.from_dict(parsedjson['data'][locstr]['B19001']) \n",
    "\n",
    "    #Iterating over that list of age codes and add it to age_sum\n",
    "    age_sum = 0 \n",
    "    for amt in age_get: \n",
    "        age_sum = agedf['estimate'][amt] + age_sum \n",
    "    \n",
    "    #Appending the sum to the age list \n",
    "    age.append(age_sum)\n",
    "    #Appending the income data to the income list \n",
    "    income.append(incomedf['estimate']['B19001011']+ incomedf['estimate']['B19001012']) \n",
    "    #Appending the race data to the race list (Hispanics only)\n",
    "    race.append(racedf['estimate']['B03002012'])\n",
    "    #Slows down the for loop so the website doesn't crash  \n",
    "        #This for loop will take time so pull data without the website bugging out \n",
    "    time.sleep(-time.time()%1) "
   ]
  },
  {
   "cell_type": "code",
   "execution_count": 15,
   "metadata": {},
   "outputs": [],
   "source": [
    "#Appending the different lists to columns in out dataframe \n",
    "alldf['Age'] = age \n",
    "alldf['Income'] = income \n",
    "alldf['Race']= race "
   ]
  },
  {
   "cell_type": "code",
   "execution_count": 16,
   "metadata": {},
   "outputs": [],
   "source": [
    "#pulling in the Name of geography region \n",
    "alldf['Name'] = msas['NAME']"
   ]
  },
  {
   "cell_type": "code",
   "execution_count": 17,
   "metadata": {},
   "outputs": [
    {
     "name": "stdout",
     "output_type": "stream",
     "text": [
      "URL       http://api.censusreporter.org/1.0/data/show/la...\n",
      "GEO_ID                                         31000US35620\n",
      "Age                                             2.40159e+06\n",
      "Income                                          1.03819e+06\n",
      "Race                                             4.9944e+06\n",
      "Name                  New York-Newark-Jersey City, NY-NJ-PA\n",
      "Name: 35620, dtype: object\n"
     ]
    }
   ],
   "source": [
    "#What city has the highest count of the audience you chose for parameter #1? (income)\n",
    "print (alldf.loc[alldf['Income'].idxmax()])\n",
    "#New York-Newark-Jersey City, NY-NJ-PA has the highest count for the income we are interested in "
   ]
  },
  {
   "cell_type": "code",
   "execution_count": 18,
   "metadata": {},
   "outputs": [
    {
     "name": "stdout",
     "output_type": "stream",
     "text": [
      "URL       http://api.censusreporter.org/1.0/data/show/la...\n",
      "GEO_ID                                         31000US35620\n",
      "Age                                             2.40159e+06\n",
      "Income                                          1.03819e+06\n",
      "Race                                             4.9944e+06\n",
      "Name                  New York-Newark-Jersey City, NY-NJ-PA\n",
      "Name: 35620, dtype: object\n"
     ]
    }
   ],
   "source": [
    "#What city has the highest count of the audience you chose for parameter #2? (age)\n",
    "print (alldf.loc[alldf['Age'].idxmax()])\n",
    "##New York-Newark-Jersey City, NY-NJ-PA has the highest count for the age range we are interested in"
   ]
  },
  {
   "cell_type": "code",
   "execution_count": 19,
   "metadata": {},
   "outputs": [
    {
     "name": "stdout",
     "output_type": "stream",
     "text": [
      "URL       http://api.censusreporter.org/1.0/data/show/la...\n",
      "GEO_ID                                         31000US31080\n",
      "Age                                             1.72147e+06\n",
      "Income                                               708153\n",
      "Race                                            6.03149e+06\n",
      "Name                     Los Angeles-Long Beach-Anaheim, CA\n",
      "Name: 31080, dtype: object\n"
     ]
    }
   ],
   "source": [
    "#What city has the highest count of the audience you chose for parameter #3? (race)\n",
    "print (alldf.loc[alldf['Race'].idxmax()])\n",
    "#Los Angeles-Long Beach-Anaheim, CA has the highest count for the race we are interested in "
   ]
  },
  {
   "cell_type": "code",
   "execution_count": 20,
   "metadata": {},
   "outputs": [
    {
     "name": "stdout",
     "output_type": "stream",
     "text": [
      "URL               http://api.censusreporter.org/1.0/data/show/la...\n",
      "GEO_ID                                                 31000US35620\n",
      "Age                                                     2.40159e+06\n",
      "Income                                                  1.03819e+06\n",
      "Race                                                     4.9944e+06\n",
      "Name                          New York-Newark-Jersey City, NY-NJ-PA\n",
      "Age Percentage                                              7.15063\n",
      "Name: 35620, dtype: object\n"
     ]
    }
   ],
   "source": [
    "#Highest average mean for age \n",
    "#Sum of all Ages\n",
    "TotalAge = alldf['Age'].sum()\n",
    "\n",
    "#percentage \n",
    "alldf['Age Percentage'] = alldf['Age']/TotalAge * 100\n",
    "\n",
    "#max mean percentage \n",
    "print (alldf.loc[alldf['Age Percentage'].idxmax()]) "
   ]
  },
  {
   "cell_type": "code",
   "execution_count": 21,
   "metadata": {},
   "outputs": [
    {
     "name": "stdout",
     "output_type": "stream",
     "text": [
      "URL                  http://api.censusreporter.org/1.0/data/show/la...\n",
      "GEO_ID                                                    31000US35620\n",
      "Age                                                        2.40159e+06\n",
      "Income                                                     1.03819e+06\n",
      "Race                                                        4.9944e+06\n",
      "Name                             New York-Newark-Jersey City, NY-NJ-PA\n",
      "Age Percentage                                                 7.15063\n",
      "Income Percentage                                              5.82497\n",
      "Name: 35620, dtype: object\n"
     ]
    }
   ],
   "source": [
    "#Highest average mean for income\n",
    "#Sum of all Ages\n",
    "TotalIncome = alldf['Income'].sum()\n",
    "\n",
    "#percentage \n",
    "alldf['Income Percentage'] = alldf['Income']/TotalIncome * 100\n",
    "\n",
    "#max mean percentage \n",
    "print (alldf.loc[alldf['Income Percentage'].idxmax()]) "
   ]
  },
  {
   "cell_type": "code",
   "execution_count": 22,
   "metadata": {},
   "outputs": [
    {
     "name": "stdout",
     "output_type": "stream",
     "text": [
      "URL                  http://api.censusreporter.org/1.0/data/show/la...\n",
      "GEO_ID                                                    31000US31080\n",
      "Age                                                        1.72147e+06\n",
      "Income                                                          708153\n",
      "Race                                                       6.03149e+06\n",
      "Name                                Los Angeles-Long Beach-Anaheim, CA\n",
      "Age Percentage                                                  5.1256\n",
      "Income Percentage                                              3.97324\n",
      "Race Percentage                                                11.2988\n",
      "Name: 31080, dtype: object\n"
     ]
    }
   ],
   "source": [
    "#Highest average mean for race\n",
    "#Sum of all Ages\n",
    "TotalRace = alldf['Race'].sum()\n",
    "\n",
    "#percentage \n",
    "alldf['Race Percentage'] = alldf['Race']/TotalRace * 100\n",
    "\n",
    "#max mean percentage \n",
    "print (alldf.loc[alldf['Race Percentage'].idxmax()]) "
   ]
  },
  {
   "cell_type": "code",
   "execution_count": 23,
   "metadata": {},
   "outputs": [
    {
     "name": "stdout",
     "output_type": "stream",
     "text": [
      "URL                   http://api.censusreporter.org/1.0/data/show/la...\n",
      "GEO_ID                                                     31000US35620\n",
      "Age                                                         2.40159e+06\n",
      "Income                                                      1.03819e+06\n",
      "Race                                                         4.9944e+06\n",
      "Name                              New York-Newark-Jersey City, NY-NJ-PA\n",
      "Age Percentage                                                  7.15063\n",
      "Income Percentage                                               5.82497\n",
      "Race Percentage                                                 9.35602\n",
      "Overall Percentage                                              22.3316\n",
      "Name: 35620, dtype: object\n"
     ]
    }
   ],
   "source": [
    "#Highest Overall Percentage across all categories  \n",
    "alldf['Overall Percentage'] = alldf['Age Percentage']+alldf['Income Percentage']+alldf['Race Percentage']\n",
    "print (alldf.loc[alldf['Overall Percentage'].idxmax()]) "
   ]
  },
  {
   "cell_type": "code",
   "execution_count": null,
   "metadata": {},
   "outputs": [],
   "source": []
  }
 ],
 "metadata": {
  "kernelspec": {
   "display_name": "Python 3",
   "language": "python",
   "name": "python3"
  },
  "language_info": {
   "codemirror_mode": {
    "name": "ipython",
    "version": 3
   },
   "file_extension": ".py",
   "mimetype": "text/x-python",
   "name": "python",
   "nbconvert_exporter": "python",
   "pygments_lexer": "ipython3",
   "version": "3.6.5"
  }
 },
 "nbformat": 4,
 "nbformat_minor": 2
}
